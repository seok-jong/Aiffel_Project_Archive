{
 "cells": [
  {
   "cell_type": "code",
   "execution_count": 52,
   "metadata": {},
   "outputs": [],
   "source": [
    "from PIL import Image\n",
    "import os\n",
    "import glob \n",
    "import zipfile\n",
    "import shutil"
   ]
  },
  {
   "cell_type": "code",
   "execution_count": 21,
   "metadata": {},
   "outputs": [],
   "source": [
    "dir = os.getenv('HOME')+'/DL/aiffel/Exp/ex01/rock_scissor_paper_dataset/'"
   ]
  },
  {
   "cell_type": "code",
   "execution_count": 65,
   "metadata": {},
   "outputs": [],
   "source": [
    "zip_dir = dir + 'zip_archive/'\n",
    "rock_dir = dir + 'rock'\n",
    "paper_dir = dir + 'paper'\n",
    "scissor_dir = dir + 'scissor'\n",
    "\n",
    "stack = 0\n",
    "file_list = ['paper', 'scissor', 'rock']\n",
    "dest_dir = [paper_dir,scissor_dir,rock_dir]"
   ]
  },
  {
   "cell_type": "code",
   "execution_count": 45,
   "metadata": {},
   "outputs": [],
   "source": [
    "zip_list = glob.glob(zip_dir+'*')\n",
    "for i, _ in enumerate(zip_list):\n",
    "    zip_list[i] = zip_list[i] + '/'\n",
    "    \n",
    "# zip_list"
   ]
  },
  {
   "cell_type": "code",
   "execution_count": 46,
   "metadata": {},
   "outputs": [],
   "source": [
    "def unzip_file(dir):\n",
    "    \n",
    "    for i in file_list:\n",
    "            \n",
    "        try:\n",
    "            if not os.path.exists(dir + i):\n",
    "                os.makedirs(dir + i)\n",
    "                \n",
    "                tmp_zip = zipfile.ZipFile(dir + i + '.zip')\n",
    "                tmp_zip.extractall(dir + i)\n",
    "        except:\n",
    "            continue\n",
    "        "
   ]
  },
  {
   "cell_type": "code",
   "execution_count": 47,
   "metadata": {},
   "outputs": [],
   "source": [
    "for i in zip_list:\n",
    "    unzip_file(i)"
   ]
  },
  {
   "cell_type": "code",
   "execution_count": 71,
   "metadata": {},
   "outputs": [
    {
     "name": "stdout",
     "output_type": "stream",
     "text": [
      "/home/seokjong/DL/aiffel/Exp/ex01/rock_scissor_paper_dataset/zip_archive/3/paper/\n",
      "/home/seokjong/DL/aiffel/Exp/ex01/rock_scissor_paper_dataset/paper\n",
      "/home/seokjong/DL/aiffel/Exp/ex01/rock_scissor_paper_dataset/zip_archive/3/scissor/\n",
      "/home/seokjong/DL/aiffel/Exp/ex01/rock_scissor_paper_dataset/scissor\n",
      "/home/seokjong/DL/aiffel/Exp/ex01/rock_scissor_paper_dataset/zip_archive/3/rock/\n",
      "/home/seokjong/DL/aiffel/Exp/ex01/rock_scissor_paper_dataset/rock\n",
      "/home/seokjong/DL/aiffel/Exp/ex01/rock_scissor_paper_dataset/zip_archive/2/paper/\n",
      "/home/seokjong/DL/aiffel/Exp/ex01/rock_scissor_paper_dataset/paper\n",
      "/home/seokjong/DL/aiffel/Exp/ex01/rock_scissor_paper_dataset/zip_archive/2/scissor/\n",
      "/home/seokjong/DL/aiffel/Exp/ex01/rock_scissor_paper_dataset/scissor\n",
      "/home/seokjong/DL/aiffel/Exp/ex01/rock_scissor_paper_dataset/zip_archive/2/rock/\n",
      "/home/seokjong/DL/aiffel/Exp/ex01/rock_scissor_paper_dataset/rock\n",
      "/home/seokjong/DL/aiffel/Exp/ex01/rock_scissor_paper_dataset/zip_archive/4/paper/\n",
      "/home/seokjong/DL/aiffel/Exp/ex01/rock_scissor_paper_dataset/paper\n",
      "/home/seokjong/DL/aiffel/Exp/ex01/rock_scissor_paper_dataset/zip_archive/4/scissor/\n",
      "/home/seokjong/DL/aiffel/Exp/ex01/rock_scissor_paper_dataset/scissor\n",
      "/home/seokjong/DL/aiffel/Exp/ex01/rock_scissor_paper_dataset/zip_archive/4/rock/\n",
      "/home/seokjong/DL/aiffel/Exp/ex01/rock_scissor_paper_dataset/rock\n",
      "/home/seokjong/DL/aiffel/Exp/ex01/rock_scissor_paper_dataset/zip_archive/5/paper/\n",
      "/home/seokjong/DL/aiffel/Exp/ex01/rock_scissor_paper_dataset/paper\n",
      "/home/seokjong/DL/aiffel/Exp/ex01/rock_scissor_paper_dataset/zip_archive/5/scissor/\n",
      "/home/seokjong/DL/aiffel/Exp/ex01/rock_scissor_paper_dataset/scissor\n",
      "/home/seokjong/DL/aiffel/Exp/ex01/rock_scissor_paper_dataset/zip_archive/5/rock/\n",
      "/home/seokjong/DL/aiffel/Exp/ex01/rock_scissor_paper_dataset/rock\n",
      "/home/seokjong/DL/aiffel/Exp/ex01/rock_scissor_paper_dataset/zip_archive/1/paper/\n",
      "/home/seokjong/DL/aiffel/Exp/ex01/rock_scissor_paper_dataset/paper\n",
      "/home/seokjong/DL/aiffel/Exp/ex01/rock_scissor_paper_dataset/zip_archive/1/scissor/\n",
      "/home/seokjong/DL/aiffel/Exp/ex01/rock_scissor_paper_dataset/scissor\n",
      "/home/seokjong/DL/aiffel/Exp/ex01/rock_scissor_paper_dataset/zip_archive/1/rock/\n",
      "/home/seokjong/DL/aiffel/Exp/ex01/rock_scissor_paper_dataset/rock\n"
     ]
    }
   ],
   "source": [
    "for i in zip_list:\n",
    "    for s, d in zip(file_list, dest_dir):\n",
    "        source = i + s + '/'\n",
    "        dest = d\n",
    "        print(source)\n",
    "        print(dest)\n",
    "        files = os.listdir(source)\n",
    "        for file in files:\n",
    "            new_file_name = str(int(file.split('.')[0])+stack)+'.jpg'\n",
    "            os.rename(source+ file,source + new_file_name)\n",
    "            shutil.move(f'{source}/{new_file_name}',dest,copy_function= shutil.copytree)\n",
    "    stack += 100"
   ]
  },
  {
   "cell_type": "code",
   "execution_count": null,
   "metadata": {},
   "outputs": [],
   "source": []
  }
 ],
 "metadata": {
  "interpreter": {
   "hash": "38963b5d02c6d443cb23d6ef89a69c02b35f4a95055f0154ecd1029fe28367b2"
  },
  "kernelspec": {
   "display_name": "Python 3.9.7 64-bit ('aiffel': conda)",
   "language": "python",
   "name": "python3"
  },
  "language_info": {
   "codemirror_mode": {
    "name": "ipython",
    "version": 3
   },
   "file_extension": ".py",
   "mimetype": "text/x-python",
   "name": "python",
   "nbconvert_exporter": "python",
   "pygments_lexer": "ipython3",
   "version": "3.9.7"
  },
  "orig_nbformat": 4
 },
 "nbformat": 4,
 "nbformat_minor": 2
}
